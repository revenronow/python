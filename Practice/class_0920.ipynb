{
 "cells": [
  {
   "cell_type": "code",
   "execution_count": 1,
   "metadata": {},
   "outputs": [
    {
     "data": {
      "text/plain": [
       "'유종훈'"
      ]
     },
     "execution_count": 1,
     "metadata": {},
     "output_type": "execute_result"
    }
   ],
   "source": [
    "class 사람:\n",
    "    def __init__(self, *친구):\n",
    "        self.친구0 = 친구[0]\n",
    "        self.친구1 = 친구[1]\n",
    "        self.친구 = 친구[:]\n",
    "\n",
    "human = 사람(\"유종훈\", \"조현호\")\n",
    "human.친구0"
   ]
  },
  {
   "cell_type": "code",
   "execution_count": 2,
   "metadata": {},
   "outputs": [
    {
     "data": {
      "text/plain": [
       "['김하나', '김기리']"
      ]
     },
     "execution_count": 2,
     "metadata": {},
     "output_type": "execute_result"
    }
   ],
   "source": [
    "class 사람:\n",
    "    def __init__(self):\n",
    "        self.친구들 = []\n",
    "\n",
    "    def 친구추가(self, name):\n",
    "        self.친구들.append(name)\n",
    "\n",
    "human = 사람()\n",
    "human.친구추가(\"김하나\")\n",
    "human.친구추가(\"김기리\")\n",
    "human.친구들"
   ]
  },
  {
   "cell_type": "code",
   "execution_count": 6,
   "metadata": {},
   "outputs": [
    {
     "data": {
      "text/plain": [
       "['김철수', '김영희', '김범수']"
      ]
     },
     "execution_count": 6,
     "metadata": {},
     "output_type": "execute_result"
    }
   ],
   "source": [
    "class 사람:\n",
    "    def __init__(self, name, friend):\n",
    "        self.이름 = name\n",
    "        self.친구들 = friend\n",
    "\n",
    "    def 친구추가(self, friend):\n",
    "        self.친구들.append(friend)\n",
    "\n",
    "human = 사람(\"유종훈\", [\"김철수\", \"김영희\"])\n",
    "human.친구추가(\"김범수\")\n",
    "human.이름\n",
    "human.친구들"
   ]
  },
  {
   "cell_type": "code",
   "execution_count": 9,
   "metadata": {},
   "outputs": [
    {
     "name": "stdout",
     "output_type": "stream",
     "text": [
      "유종훈 친구목록\n",
      "- 김철수\n",
      "- 김영희\n"
     ]
    }
   ],
   "source": [
    "class 사람:\n",
    "    def __init__(self, name, friend):\n",
    "        self.name = name\n",
    "        self.친구 = friend\n",
    "\n",
    "    def 친구목록(self):\n",
    "        print(self.name, \"친구목록\")\n",
    "        for i in self.친구:\n",
    "            print(\"-\", i)\n",
    "\n",
    "human = 사람(\"유종훈\", [\"김철수\", \"김영희\"])\n",
    "human.친구목록()"
   ]
  },
  {
   "cell_type": "code",
   "execution_count": 13,
   "metadata": {},
   "outputs": [
    {
     "name": "stdout",
     "output_type": "stream",
     "text": [
      "김철수\n"
     ]
    }
   ],
   "source": [
    "class 사람:\n",
    "    def __init__(self, name, friend):\n",
    "        self.name = name\n",
    "        self.friend = friend\n",
    "    \n",
    "    def 친구목록(self, num):\n",
    "        for i in range(0, num):\n",
    "            print(self.friend[i])\n",
    "\n",
    "human = 사람(\"유종훈\", [\"김철수\", \"김영희\", \"박영수\", \"이미자\"])\n",
    "human.친구목록(1)"
   ]
  },
  {
   "cell_type": "code",
   "execution_count": 15,
   "metadata": {},
   "outputs": [
    {
     "data": {
      "text/plain": [
       "1000"
      ]
     },
     "execution_count": 15,
     "metadata": {},
     "output_type": "execute_result"
    }
   ],
   "source": [
    "class 차:\n",
    "    def __init__(self, tire, price):\n",
    "        self.바퀴 = tire\n",
    "        self.가격 = price\n",
    "    \n",
    "car = 차(2, 1000)\n",
    "car.바퀴\n",
    "car.가격"
   ]
  },
  {
   "cell_type": "code",
   "execution_count": 24,
   "metadata": {},
   "outputs": [
    {
     "name": "stdout",
     "output_type": "stream",
     "text": [
      "바퀴수 2\n",
      "가격 100\n",
      "구동계 시마노\n"
     ]
    }
   ],
   "source": [
    "class 차:\n",
    "    def __init__(self, tire, price):\n",
    "        self.바퀴 = tire\n",
    "        self.가격 = price\n",
    "\n",
    "class 자전차(차):\n",
    "    def __init__(self, tire, price, 구동계):\n",
    "        super().__init__(tire, price)\n",
    "        self.구동계 = 구동계\n",
    "\n",
    "    def info(self):\n",
    "        print(f'바퀴수 {self.바퀴}\\n가격 {self.가격}\\n구동계 {self.구동계}')\n",
    "\n",
    "bicycle = 자전차(2, 100, \"시마노\")\n",
    "bicycle.info()\n"
   ]
  },
  {
   "cell_type": "code",
   "execution_count": 21,
   "metadata": {},
   "outputs": [
    {
     "name": "stdout",
     "output_type": "stream",
     "text": [
      "바퀴수 4\n",
      "가격 1000\n"
     ]
    }
   ],
   "source": [
    "class 차:\n",
    "    def __init__(self, tire, price):\n",
    "        self.바퀴 = tire\n",
    "        self.가격 = price\n",
    "\n",
    "class 자동차(차):\n",
    "    def __init__(self, tire, price):\n",
    "        super().__init__(tire, price)\n",
    "\n",
    "    def 정보(self):\n",
    "        print(f'바퀴수 {self.바퀴}\\n가격 {self.가격}')\n",
    "\n",
    "car = 자동차(4, 1000)\n",
    "car.정보()"
   ]
  }
 ],
 "metadata": {
  "kernelspec": {
   "display_name": "Python 3",
   "language": "python",
   "name": "python3"
  },
  "language_info": {
   "codemirror_mode": {
    "name": "ipython",
    "version": 3
   },
   "file_extension": ".py",
   "mimetype": "text/x-python",
   "name": "python",
   "nbconvert_exporter": "python",
   "pygments_lexer": "ipython3",
   "version": "3.10.11"
  }
 },
 "nbformat": 4,
 "nbformat_minor": 2
}
